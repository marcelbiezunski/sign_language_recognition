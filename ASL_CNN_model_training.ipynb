{
 "cells": [
  {
   "cell_type": "markdown",
   "metadata": {},
   "source": [
    "ASL classification model"
   ]
  },
  {
   "cell_type": "markdown",
   "metadata": {},
   "source": [
    "Library Loading"
   ]
  },
  {
   "cell_type": "code",
   "execution_count": 1,
   "metadata": {},
   "outputs": [],
   "source": [
    "import torch.nn as nn\n",
    "import pandas as pd\n",
    "import torch\n",
    "from torch.optim import Adam\n",
    "from torch.utils.data import Dataset, DataLoader"
   ]
  },
  {
   "cell_type": "code",
   "execution_count": 2,
   "metadata": {},
   "outputs": [],
   "source": [
    "#error handling\n",
    "import torch._dynamo\n",
    "torch._dynamo.config.suppress_errors = True"
   ]
  },
  {
   "cell_type": "markdown",
   "metadata": {},
   "source": [
    "Download and import American Sign Language Dataset available at Kaggle"
   ]
  },
  {
   "cell_type": "code",
   "execution_count": 3,
   "metadata": {},
   "outputs": [],
   "source": [
    "training_df = pd.read_csv(\"data/asl_dataset/sign_training.csv\")\n",
    "validation_df = pd.read_csv(\"data/asl_dataset/sign_validation.csv\")"
   ]
  },
  {
   "cell_type": "code",
   "execution_count": null,
   "metadata": {},
   "outputs": [],
   "source": [
    "'''Explore dataframes using training_df.head() and validation_df.head()'''"
   ]
  },
  {
   "cell_type": "markdown",
   "metadata": {},
   "source": [
    "Custom Dataset: reshaping data into 28x28 pixel format. "
   ]
  },
  {
   "cell_type": "code",
   "execution_count": 4,
   "metadata": {},
   "outputs": [
    {
     "data": {
      "text/plain": [
       "False"
      ]
     },
     "execution_count": 4,
     "metadata": {},
     "output_type": "execute_result"
    }
   ],
   "source": [
    "device = torch.device(\"cuda\" if torch.cuda.is_available() else \"cpu\")\n",
    "torch.cuda.is_available()"
   ]
  },
  {
   "cell_type": "code",
   "execution_count": 5,
   "metadata": {},
   "outputs": [],
   "source": [
    "IMG_CHS = 1\n",
    "IMG_HEIGHT = 28\n",
    "IMG_WIDTH = 28\n",
    "\n",
    "class MyDataset(Dataset):\n",
    "    def __init__(self, base_df):\n",
    "        x_df = base_df.copy()\n",
    "        y_df = x_df.pop('label')\n",
    "        x_df = x_df.values / 255\n",
    "        x_df = x_df.reshape(-1, IMG_CHS, IMG_HEIGHT, IMG_WIDTH)\n",
    "        self.xs = torch.tensor(x_df).float().to(device)\n",
    "        self.ys = torch.tensor(y_df).to(device)\n",
    "\n",
    "    def __getitem__(self, idx):\n",
    "        x = self.xs[idx]\n",
    "        y = self.ys[idx]\n",
    "        return x, y\n",
    "\n",
    "    def __len__(self):\n",
    "        return len(self.xs)"
   ]
  },
  {
   "cell_type": "markdown",
   "metadata": {},
   "source": [
    "Creating DataLoader"
   ]
  },
  {
   "cell_type": "code",
   "execution_count": 6,
   "metadata": {},
   "outputs": [],
   "source": [
    "BATCH_SIZE = 32\n",
    "\n",
    "training_data = MyDataset(training_df)\n",
    "training_loader = DataLoader(training_data, batch_size=BATCH_SIZE, shuffle=True)\n",
    "training_N = len(training_loader.dataset)\n",
    "\n",
    "validation_data = MyDataset(validation_df)\n",
    "validation_loader = DataLoader(validation_data, batch_size=BATCH_SIZE)\n",
    "validation_N = len(validation_loader.dataset)"
   ]
  },
  {
   "cell_type": "code",
   "execution_count": null,
   "metadata": {},
   "outputs": [],
   "source": [
    "'''\n",
    "training_loader\n",
    "batch = next(iter(train_loader))\n",
    "batch \n",
    "'''"
   ]
  },
  {
   "cell_type": "markdown",
   "metadata": {},
   "source": [
    "Building model: Convolutional Neural Network"
   ]
  },
  {
   "cell_type": "code",
   "execution_count": null,
   "metadata": {},
   "outputs": [],
   "source": [
    "'''24 categories because 2 of 26 sign letters require movement to be shown'''"
   ]
  },
  {
   "cell_type": "code",
   "execution_count": 11,
   "metadata": {},
   "outputs": [],
   "source": [
    "image_size = 75*3*3\n",
    "kernel_size = 3\n",
    "n_categories = 24 "
   ]
  },
  {
   "cell_type": "code",
   "execution_count": 13,
   "metadata": {},
   "outputs": [
    {
     "data": {
      "text/plain": [
       "OptimizedModule(\n",
       "  (_orig_mod): Sequential(\n",
       "    (0): Conv2d(1, 25, kernel_size=(3, 3), stride=(1, 1), padding=(1, 1))\n",
       "    (1): BatchNorm2d(25, eps=1e-05, momentum=0.1, affine=True, track_running_stats=True)\n",
       "    (2): ReLU()\n",
       "    (3): MaxPool2d(kernel_size=2, stride=2, padding=0, dilation=1, ceil_mode=False)\n",
       "    (4): Conv2d(25, 50, kernel_size=(3, 3), stride=(1, 1), padding=(1, 1))\n",
       "    (5): BatchNorm2d(50, eps=1e-05, momentum=0.1, affine=True, track_running_stats=True)\n",
       "    (6): ReLU()\n",
       "    (7): Dropout(p=0.2, inplace=False)\n",
       "    (8): MaxPool2d(kernel_size=2, stride=2, padding=0, dilation=1, ceil_mode=False)\n",
       "    (9): Conv2d(50, 75, kernel_size=(3, 3), stride=(1, 1), padding=(1, 1))\n",
       "    (10): BatchNorm2d(75, eps=1e-05, momentum=0.1, affine=True, track_running_stats=True)\n",
       "    (11): ReLU()\n",
       "    (12): MaxPool2d(kernel_size=2, stride=2, padding=0, dilation=1, ceil_mode=False)\n",
       "    (13): Flatten(start_dim=1, end_dim=-1)\n",
       "    (14): Linear(in_features=675, out_features=512, bias=True)\n",
       "    (15): Dropout(p=0.3, inplace=False)\n",
       "    (16): ReLU()\n",
       "    (17): Linear(in_features=512, out_features=24, bias=True)\n",
       "  )\n",
       ")"
      ]
     },
     "execution_count": 13,
     "metadata": {},
     "output_type": "execute_result"
    }
   ],
   "source": [
    "model = nn.Sequential(\n",
    "    # First convolution\n",
    "    nn.Conv2d(IMG_CHS, 25, kernel_size, stride=1, padding=1),  # 25 x 28 x 28\n",
    "    nn.BatchNorm2d(25),\n",
    "    nn.ReLU(),\n",
    "    nn.MaxPool2d(2, stride=2),  # 25 x 14 x 14\n",
    "    # Second convolution\n",
    "    nn.Conv2d(25, 50, kernel_size, stride=1, padding=1),  # 50 x 14 x 14\n",
    "    nn.BatchNorm2d(50),\n",
    "    nn.ReLU(),\n",
    "    nn.Dropout(.2),\n",
    "    nn.MaxPool2d(2, stride=2),  # 50 x 7 x 7\n",
    "    # Third convolution\n",
    "    nn.Conv2d(50, 75, kernel_size, stride=1, padding=1),  # 75 x 7 x 7\n",
    "    nn.BatchNorm2d(75),\n",
    "    nn.ReLU(),\n",
    "    nn.MaxPool2d(2, stride=2),  # 75 x 3 x 3\n",
    "    # Flatten to Dense\n",
    "    nn.Flatten(),\n",
    "    nn.Linear(image_size, 512),\n",
    "    nn.Dropout(.3),\n",
    "    nn.ReLU(),\n",
    "    nn.Linear(512, n_categories)\n",
    ")\n",
    "\n",
    "model = torch.compile(model.to(device))\n",
    "optimizer = Adam(model.parameters())\n",
    "loss_function = nn.CrossEntropyLoss()\n",
    "model"
   ]
  },
  {
   "cell_type": "markdown",
   "metadata": {},
   "source": [
    "Defining functions for training and validation"
   ]
  },
  {
   "cell_type": "code",
   "execution_count": 14,
   "metadata": {},
   "outputs": [],
   "source": [
    "def training():\n",
    "    loss = 0\n",
    "    accuracy = 0\n",
    "\n",
    "    model.train()\n",
    "    for x, y in training_loader:\n",
    "        output = model(x)\n",
    "        optimizer.zero_grad()\n",
    "        batch_loss = loss_function(output, y)\n",
    "        batch_loss.backward()\n",
    "        optimizer.step()\n",
    "\n",
    "        loss += batch_loss.item()\n",
    "        accuracy += get_batch_accuracy(output, y, training_N)\n",
    "    print('Train - Loss: {:.4f} Accuracy: {:.4f}'.format(loss, accuracy))\n",
    "    \n",
    "def validation():\n",
    "    loss = 0\n",
    "    accuracy = 0\n",
    "\n",
    "    model.eval()\n",
    "    with torch.no_grad():\n",
    "        for x, y in validation_loader:\n",
    "            output = model(x)\n",
    "\n",
    "            loss += loss_function(output, y).item()\n",
    "            accuracy += get_batch_accuracy(output, y, validation_N)\n",
    "    print('Valid - Loss: {:.4f} Accuracy: {:.4f}'.format(loss, accuracy))\n",
    "\n",
    "def get_batch_accuracy(output, y, N):\n",
    "    pred = output.argmax(dim=1, keepdim=True)\n",
    "    correct = pred.eq(y.view_as(pred)).sum().item()\n",
    "    return correct / N"
   ]
  },
  {
   "cell_type": "markdown",
   "metadata": {},
   "source": [
    "Training"
   ]
  },
  {
   "cell_type": "code",
   "execution_count": 15,
   "metadata": {},
   "outputs": [
    {
     "name": "stdout",
     "output_type": "stream",
     "text": [
      "Epoch: 0\n"
     ]
    },
    {
     "name": "stdout",
     "output_type": "stream",
     "text": [
      "Train - Loss: 263.1308 Accuracy: 0.9101\n",
      "Valid - Loss: 27.6110 Accuracy: 0.9642\n",
      "Epoch: 1\n",
      "Train - Loss: 21.0076 Accuracy: 0.9933\n",
      "Valid - Loss: 17.1617 Accuracy: 0.9752\n",
      "Epoch: 2\n",
      "Train - Loss: 10.5446 Accuracy: 0.9965\n",
      "Valid - Loss: 33.2016 Accuracy: 0.9526\n",
      "Epoch: 3\n",
      "Train - Loss: 6.0426 Accuracy: 0.9983\n",
      "Valid - Loss: 10.8950 Accuracy: 0.9766\n",
      "Epoch: 4\n",
      "Train - Loss: 12.8118 Accuracy: 0.9955\n",
      "Valid - Loss: 23.4554 Accuracy: 0.9650\n",
      "Epoch: 5\n",
      "Train - Loss: 9.3466 Accuracy: 0.9969\n",
      "Valid - Loss: 31.5810 Accuracy: 0.9534\n",
      "Epoch: 6\n",
      "Train - Loss: 2.3197 Accuracy: 0.9993\n",
      "Valid - Loss: 20.8554 Accuracy: 0.9739\n",
      "Epoch: 7\n",
      "Train - Loss: 12.4656 Accuracy: 0.9960\n",
      "Valid - Loss: 18.9023 Accuracy: 0.9784\n",
      "Epoch: 8\n",
      "Train - Loss: 4.0436 Accuracy: 0.9987\n",
      "Valid - Loss: 25.7996 Accuracy: 0.9587\n",
      "Epoch: 9\n",
      "Train - Loss: 3.9236 Accuracy: 0.9988\n",
      "Valid - Loss: 15.3980 Accuracy: 0.9791\n",
      "Epoch: 10\n",
      "Train - Loss: 0.2225 Accuracy: 0.9999\n",
      "Valid - Loss: 11.3071 Accuracy: 0.9791\n",
      "Epoch: 11\n",
      "Train - Loss: 9.5604 Accuracy: 0.9969\n",
      "Valid - Loss: 17.6456 Accuracy: 0.9738\n",
      "Epoch: 12\n",
      "Train - Loss: 3.2393 Accuracy: 0.9989\n",
      "Valid - Loss: 13.3234 Accuracy: 0.9820\n",
      "Epoch: 13\n",
      "Train - Loss: 6.2677 Accuracy: 0.9982\n",
      "Valid - Loss: 18.5531 Accuracy: 0.9808\n",
      "Epoch: 14\n",
      "Train - Loss: 2.2771 Accuracy: 0.9993\n",
      "Valid - Loss: 16.3975 Accuracy: 0.9752\n",
      "Epoch: 15\n",
      "Train - Loss: 0.3838 Accuracy: 0.9998\n",
      "Valid - Loss: 17.1584 Accuracy: 0.9739\n",
      "Epoch: 16\n",
      "Train - Loss: 8.5147 Accuracy: 0.9979\n",
      "Valid - Loss: 12.1152 Accuracy: 0.9858\n",
      "Epoch: 17\n",
      "Train - Loss: 0.3044 Accuracy: 0.9999\n",
      "Valid - Loss: 13.9052 Accuracy: 0.9837\n",
      "Epoch: 18\n",
      "Train - Loss: 5.3876 Accuracy: 0.9983\n",
      "Valid - Loss: 17.1868 Accuracy: 0.9819\n",
      "Epoch: 19\n",
      "Train - Loss: 4.2733 Accuracy: 0.9987\n",
      "Valid - Loss: 23.0695 Accuracy: 0.9771\n"
     ]
    }
   ],
   "source": [
    "epochs = 20\n",
    "\n",
    "for epoch in range(epochs):\n",
    "    print('Epoch: {}'.format(epoch))\n",
    "    training()\n",
    "    validation()"
   ]
  }
 ],
 "metadata": {
  "kernelspec": {
   "display_name": "Python 3",
   "language": "python",
   "name": "python3"
  },
  "language_info": {
   "codemirror_mode": {
    "name": "ipython",
    "version": 3
   },
   "file_extension": ".py",
   "mimetype": "text/x-python",
   "name": "python",
   "nbconvert_exporter": "python",
   "pygments_lexer": "ipython3",
   "version": "3.11.9"
  }
 },
 "nbformat": 4,
 "nbformat_minor": 2
}
